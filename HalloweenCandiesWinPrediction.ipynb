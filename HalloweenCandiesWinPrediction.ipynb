{
  "nbformat": 4,
  "nbformat_minor": 0,
  "metadata": {
    "kernelspec": {
      "display_name": "Python 3",
      "language": "python",
      "name": "python3"
    },
    "language_info": {
      "codemirror_mode": {
        "name": "ipython",
        "version": 3
      },
      "file_extension": ".py",
      "mimetype": "text/x-python",
      "name": "python",
      "nbconvert_exporter": "python",
      "pygments_lexer": "ipython3",
      "version": "3.7.4"
    },
    "colab": {
      "name": "HalloweenCandiesWinPrediction.ipynb",
      "provenance": [],
      "include_colab_link": true
    }
  },
  "cells": [
    {
      "cell_type": "markdown",
      "metadata": {
        "id": "view-in-github",
        "colab_type": "text"
      },
      "source": [
        "<a href=\"https://colab.research.google.com/github/gauravkv95/HalloweenCandiesWinPrediction/blob/master/HalloweenCandiesWinPrediction.ipynb\" target=\"_parent\"><img src=\"https://colab.research.google.com/assets/colab-badge.svg\" alt=\"Open In Colab\"/></a>"
      ]
    },
    {
      "cell_type": "markdown",
      "metadata": {
        "id": "6SqQjrCi6i6I"
      },
      "source": [
        "<img src=\"https://github.com/insaid2018/Term-1/blob/master/Images/INSAID_Full%20Logo.png?raw=true\" width=\"240\" height=\"360\" />\n",
        "\n",
        "# ML1 Project"
      ]
    },
    {
      "cell_type": "markdown",
      "metadata": {
        "id": "5-Eea3lQ6i6J"
      },
      "source": [
        "## Table of Content\n",
        "\n",
        "1. [Problem Statement](#section1)<br>\n",
        "2. [Data Loading and Description](#section2)<br>\n",
        "3. [Exploratory Data Analysis](#section3)<br>\n",
        "4. [Modelling using Linear Regression Algorithm](#section4)<br>\n",
        "    - 4.1 [Preparing X and y dataset](#section401)<br>\n",
        "        - 4.1.1 [Splitting X and y into training and test datasets](#section40101)<br>\n",
        "        - 4.1.2 [Scaling of training and test datasets](#section40102)<br>\n",
        "    - 4.2 [Model Formation and Prediction using Linear Regression Algorithm](#section402)<br>\n",
        "        - 4.2.2 [Interpreting Model Coefficients](#section40202)<br>\n",
        "    - 4.3 [Model Formation and Prediction using Decision Tree Regressor Algorithm](#section403)<br>\n",
        "    - 4.4 [Model Formation and Prediction using Random Forest Regressor Algorithm](#section404)<br>\n",
        "5. [Model evaluation](#section5)<br>\n",
        "    - 5.1 [Model evaluation using metrics](#section501)<br>\n",
        "    - 5.2 [Model Evaluation using Rsquared value](#section502)<br>"
      ]
    },
    {
      "cell_type": "markdown",
      "metadata": {
        "id": "ed1Awf1U6i6K"
      },
      "source": [
        "<a id=section1></a> \n",
        "### 1. Problem Statement"
      ]
    },
    {
      "cell_type": "markdown",
      "metadata": {
        "id": "dhWZiXAD6i6L"
      },
      "source": [
        "Each row in the dataset corresponds to one type of Halloween candy.\n",
        "Participants are shown different candies two at time and were asked which candy do they prefer.\n",
        "After aggregating all the votes, each candy is given winpercent.\n",
        "Based on the given dataset we have to predict the winpercent of candies that are unknown to current dataset."
      ]
    },
    {
      "cell_type": "markdown",
      "metadata": {
        "id": "EI0LXJxO6i6M"
      },
      "source": [
        "<a id=section2></a> \n",
        "### 2. Data Loading and Description"
      ]
    },
    {
      "cell_type": "markdown",
      "metadata": {
        "id": "DrxvdVle6i6N"
      },
      "source": [
        "The dataset has below features based on which the winpercent of candies will be predicted.\n",
        "- chocolate: Does it contain chocolate?\n",
        "- fruity: Is it fruit flavored?\n",
        "- caramel: Is there caramel in the candy?\n",
        "- peanutalmondy: Does it contain peanuts, peanut butter or almonds?\n",
        "- nougat: Does it contain nougat?\n",
        "- crispedricewafer: Does it contain crisped rice, wafers, or a cookie component?\n",
        "- hard: Is it a hard candy?\n",
        "- bar: Is it a candy bar?\n",
        "- pluribus: Is it one of many candies in a bag or box?\n",
        "- sugarpercent: The percentile of sugar it falls under within the data set.\n",
        "- pricepercent: The unit price percentile compared to the rest of the set.\n",
        "- winpercent: The overall win percentage according to 269,000 matchups."
      ]
    },
    {
      "cell_type": "markdown",
      "metadata": {
        "id": "_l4YRnbM6i6O"
      },
      "source": [
        "### Importing Packages"
      ]
    },
    {
      "cell_type": "code",
      "metadata": {
        "id": "29MCyyoV6i6O"
      },
      "source": [
        "import pandas as pd #helps in transforming or modeifying df\n",
        "import seaborn as sns #visualization\n",
        "import matplotlib.pyplot as plt\n",
        "\n",
        "\n",
        "from sklearn import metrics # RMSE and R2\n",
        "\n",
        "import numpy as np #numerical cal in python, log transformation, sqroot..\n",
        "\n",
        "# allow plots to appear directly in the notebook\n",
        "%matplotlib inline"
      ],
      "execution_count": null,
      "outputs": []
    },
    {
      "cell_type": "markdown",
      "metadata": {
        "id": "4a1Hstxl6i6S"
      },
      "source": [
        "### Importing the Dataset"
      ]
    },
    {
      "cell_type": "code",
      "metadata": {
        "id": "3MdW5Tmt6i6T",
        "outputId": "dc86082f-332a-4256-d407-58005f381583"
      },
      "source": [
        "data = pd.read_csv('https://raw.githubusercontent.com/insaid2018/Term-2/master/Projects/candy-data.csv', index_col= 0)\n",
        "data.head()"
      ],
      "execution_count": null,
      "outputs": [
        {
          "output_type": "execute_result",
          "data": {
            "text/html": [
              "<div>\n",
              "<style scoped>\n",
              "    .dataframe tbody tr th:only-of-type {\n",
              "        vertical-align: middle;\n",
              "    }\n",
              "\n",
              "    .dataframe tbody tr th {\n",
              "        vertical-align: top;\n",
              "    }\n",
              "\n",
              "    .dataframe thead th {\n",
              "        text-align: right;\n",
              "    }\n",
              "</style>\n",
              "<table border=\"1\" class=\"dataframe\">\n",
              "  <thead>\n",
              "    <tr style=\"text-align: right;\">\n",
              "      <th></th>\n",
              "      <th>chocolate</th>\n",
              "      <th>fruity</th>\n",
              "      <th>caramel</th>\n",
              "      <th>peanutyalmondy</th>\n",
              "      <th>nougat</th>\n",
              "      <th>crispedricewafer</th>\n",
              "      <th>hard</th>\n",
              "      <th>bar</th>\n",
              "      <th>pluribus</th>\n",
              "      <th>sugarpercent</th>\n",
              "      <th>pricepercent</th>\n",
              "      <th>winpercent</th>\n",
              "    </tr>\n",
              "    <tr>\n",
              "      <th>competitorname</th>\n",
              "      <th></th>\n",
              "      <th></th>\n",
              "      <th></th>\n",
              "      <th></th>\n",
              "      <th></th>\n",
              "      <th></th>\n",
              "      <th></th>\n",
              "      <th></th>\n",
              "      <th></th>\n",
              "      <th></th>\n",
              "      <th></th>\n",
              "      <th></th>\n",
              "    </tr>\n",
              "  </thead>\n",
              "  <tbody>\n",
              "    <tr>\n",
              "      <td>100 Grand</td>\n",
              "      <td>1</td>\n",
              "      <td>0</td>\n",
              "      <td>1</td>\n",
              "      <td>0</td>\n",
              "      <td>0</td>\n",
              "      <td>1</td>\n",
              "      <td>0</td>\n",
              "      <td>1</td>\n",
              "      <td>0</td>\n",
              "      <td>0.732</td>\n",
              "      <td>0.860</td>\n",
              "      <td>66.971725</td>\n",
              "    </tr>\n",
              "    <tr>\n",
              "      <td>3 Musketeers</td>\n",
              "      <td>1</td>\n",
              "      <td>0</td>\n",
              "      <td>0</td>\n",
              "      <td>0</td>\n",
              "      <td>1</td>\n",
              "      <td>0</td>\n",
              "      <td>0</td>\n",
              "      <td>1</td>\n",
              "      <td>0</td>\n",
              "      <td>0.604</td>\n",
              "      <td>0.511</td>\n",
              "      <td>67.602936</td>\n",
              "    </tr>\n",
              "    <tr>\n",
              "      <td>One dime</td>\n",
              "      <td>0</td>\n",
              "      <td>0</td>\n",
              "      <td>0</td>\n",
              "      <td>0</td>\n",
              "      <td>0</td>\n",
              "      <td>0</td>\n",
              "      <td>0</td>\n",
              "      <td>0</td>\n",
              "      <td>0</td>\n",
              "      <td>0.011</td>\n",
              "      <td>0.116</td>\n",
              "      <td>32.261086</td>\n",
              "    </tr>\n",
              "    <tr>\n",
              "      <td>One quarter</td>\n",
              "      <td>0</td>\n",
              "      <td>0</td>\n",
              "      <td>0</td>\n",
              "      <td>0</td>\n",
              "      <td>0</td>\n",
              "      <td>0</td>\n",
              "      <td>0</td>\n",
              "      <td>0</td>\n",
              "      <td>0</td>\n",
              "      <td>0.011</td>\n",
              "      <td>0.511</td>\n",
              "      <td>46.116505</td>\n",
              "    </tr>\n",
              "    <tr>\n",
              "      <td>Air Heads</td>\n",
              "      <td>0</td>\n",
              "      <td>1</td>\n",
              "      <td>0</td>\n",
              "      <td>0</td>\n",
              "      <td>0</td>\n",
              "      <td>0</td>\n",
              "      <td>0</td>\n",
              "      <td>0</td>\n",
              "      <td>0</td>\n",
              "      <td>0.906</td>\n",
              "      <td>0.511</td>\n",
              "      <td>52.341465</td>\n",
              "    </tr>\n",
              "  </tbody>\n",
              "</table>\n",
              "</div>"
            ],
            "text/plain": [
              "                chocolate  fruity  caramel  peanutyalmondy  nougat  \\\n",
              "competitorname                                                       \n",
              "100 Grand               1       0        1               0       0   \n",
              "3 Musketeers            1       0        0               0       1   \n",
              "One dime                0       0        0               0       0   \n",
              "One quarter             0       0        0               0       0   \n",
              "Air Heads               0       1        0               0       0   \n",
              "\n",
              "                crispedricewafer  hard  bar  pluribus  sugarpercent  \\\n",
              "competitorname                                                        \n",
              "100 Grand                      1     0    1         0         0.732   \n",
              "3 Musketeers                   0     0    1         0         0.604   \n",
              "One dime                       0     0    0         0         0.011   \n",
              "One quarter                    0     0    0         0         0.011   \n",
              "Air Heads                      0     0    0         0         0.906   \n",
              "\n",
              "                pricepercent  winpercent  \n",
              "competitorname                            \n",
              "100 Grand              0.860   66.971725  \n",
              "3 Musketeers           0.511   67.602936  \n",
              "One dime               0.116   32.261086  \n",
              "One quarter            0.511   46.116505  \n",
              "Air Heads              0.511   52.341465  "
            ]
          },
          "metadata": {
            "tags": []
          },
          "execution_count": 13
        }
      ]
    },
    {
      "cell_type": "markdown",
      "metadata": {
        "id": "GFJPRNcC6i6W"
      },
      "source": [
        "<a id=section3></a> \n",
        "### 3. Exploratory Data Analysis"
      ]
    },
    {
      "cell_type": "code",
      "metadata": {
        "id": "XYJaF5ML6i6X",
        "outputId": "91944235-966e-4d86-d4c5-17e6d59e6fe2"
      },
      "source": [
        "data.shape"
      ],
      "execution_count": null,
      "outputs": [
        {
          "output_type": "execute_result",
          "data": {
            "text/plain": [
              "(85, 12)"
            ]
          },
          "metadata": {
            "tags": []
          },
          "execution_count": 17
        }
      ]
    },
    {
      "cell_type": "code",
      "metadata": {
        "id": "wgCJaiQ86i6a",
        "outputId": "a067e408-61c2-4fc2-905c-5d6bd057764f"
      },
      "source": [
        "data.info()"
      ],
      "execution_count": null,
      "outputs": [
        {
          "output_type": "stream",
          "text": [
            "<class 'pandas.core.frame.DataFrame'>\n",
            "Index: 85 entries, 100 Grand to Whoppers\n",
            "Data columns (total 12 columns):\n",
            "chocolate           85 non-null int64\n",
            "fruity              85 non-null int64\n",
            "caramel             85 non-null int64\n",
            "peanutyalmondy      85 non-null int64\n",
            "nougat              85 non-null int64\n",
            "crispedricewafer    85 non-null int64\n",
            "hard                85 non-null int64\n",
            "bar                 85 non-null int64\n",
            "pluribus            85 non-null int64\n",
            "sugarpercent        85 non-null float64\n",
            "pricepercent        85 non-null float64\n",
            "winpercent          85 non-null float64\n",
            "dtypes: float64(3), int64(9)\n",
            "memory usage: 8.6+ KB\n"
          ],
          "name": "stdout"
        }
      ]
    },
    {
      "cell_type": "code",
      "metadata": {
        "id": "on-P1GSB6i6e",
        "outputId": "a1bb1584-ecd7-4412-cfe7-63c33e15bf29"
      },
      "source": [
        "total = data.isnull().sum().sort_values(ascending=False)\n",
        "percent = ((data.isnull().sum()/data.isnull().count())*100).sort_values(ascending=False)\n",
        "missing_data = pd.concat([total, percent], axis=1, keys=['Total', 'Percent'])\n",
        "missing_data.head(80)\n",
        "#print(missing_data)"
      ],
      "execution_count": null,
      "outputs": [
        {
          "output_type": "execute_result",
          "data": {
            "text/html": [
              "<div>\n",
              "<style scoped>\n",
              "    .dataframe tbody tr th:only-of-type {\n",
              "        vertical-align: middle;\n",
              "    }\n",
              "\n",
              "    .dataframe tbody tr th {\n",
              "        vertical-align: top;\n",
              "    }\n",
              "\n",
              "    .dataframe thead th {\n",
              "        text-align: right;\n",
              "    }\n",
              "</style>\n",
              "<table border=\"1\" class=\"dataframe\">\n",
              "  <thead>\n",
              "    <tr style=\"text-align: right;\">\n",
              "      <th></th>\n",
              "      <th>Total</th>\n",
              "      <th>Percent</th>\n",
              "    </tr>\n",
              "  </thead>\n",
              "  <tbody>\n",
              "    <tr>\n",
              "      <td>winpercent</td>\n",
              "      <td>0</td>\n",
              "      <td>0.0</td>\n",
              "    </tr>\n",
              "    <tr>\n",
              "      <td>pricepercent</td>\n",
              "      <td>0</td>\n",
              "      <td>0.0</td>\n",
              "    </tr>\n",
              "    <tr>\n",
              "      <td>sugarpercent</td>\n",
              "      <td>0</td>\n",
              "      <td>0.0</td>\n",
              "    </tr>\n",
              "    <tr>\n",
              "      <td>pluribus</td>\n",
              "      <td>0</td>\n",
              "      <td>0.0</td>\n",
              "    </tr>\n",
              "    <tr>\n",
              "      <td>bar</td>\n",
              "      <td>0</td>\n",
              "      <td>0.0</td>\n",
              "    </tr>\n",
              "    <tr>\n",
              "      <td>hard</td>\n",
              "      <td>0</td>\n",
              "      <td>0.0</td>\n",
              "    </tr>\n",
              "    <tr>\n",
              "      <td>crispedricewafer</td>\n",
              "      <td>0</td>\n",
              "      <td>0.0</td>\n",
              "    </tr>\n",
              "    <tr>\n",
              "      <td>nougat</td>\n",
              "      <td>0</td>\n",
              "      <td>0.0</td>\n",
              "    </tr>\n",
              "    <tr>\n",
              "      <td>peanutyalmondy</td>\n",
              "      <td>0</td>\n",
              "      <td>0.0</td>\n",
              "    </tr>\n",
              "    <tr>\n",
              "      <td>caramel</td>\n",
              "      <td>0</td>\n",
              "      <td>0.0</td>\n",
              "    </tr>\n",
              "    <tr>\n",
              "      <td>fruity</td>\n",
              "      <td>0</td>\n",
              "      <td>0.0</td>\n",
              "    </tr>\n",
              "    <tr>\n",
              "      <td>chocolate</td>\n",
              "      <td>0</td>\n",
              "      <td>0.0</td>\n",
              "    </tr>\n",
              "  </tbody>\n",
              "</table>\n",
              "</div>"
            ],
            "text/plain": [
              "                  Total  Percent\n",
              "winpercent            0      0.0\n",
              "pricepercent          0      0.0\n",
              "sugarpercent          0      0.0\n",
              "pluribus              0      0.0\n",
              "bar                   0      0.0\n",
              "hard                  0      0.0\n",
              "crispedricewafer      0      0.0\n",
              "nougat                0      0.0\n",
              "peanutyalmondy        0      0.0\n",
              "caramel               0      0.0\n",
              "fruity                0      0.0\n",
              "chocolate             0      0.0"
            ]
          },
          "metadata": {
            "tags": []
          },
          "execution_count": 15
        }
      ]
    },
    {
      "cell_type": "code",
      "metadata": {
        "id": "K798JwKu6i6h",
        "outputId": "25ae63fe-0549-4ce8-b41e-bf3e3deb2b7b"
      },
      "source": [
        "data.describe()"
      ],
      "execution_count": null,
      "outputs": [
        {
          "output_type": "execute_result",
          "data": {
            "text/html": [
              "<div>\n",
              "<style scoped>\n",
              "    .dataframe tbody tr th:only-of-type {\n",
              "        vertical-align: middle;\n",
              "    }\n",
              "\n",
              "    .dataframe tbody tr th {\n",
              "        vertical-align: top;\n",
              "    }\n",
              "\n",
              "    .dataframe thead th {\n",
              "        text-align: right;\n",
              "    }\n",
              "</style>\n",
              "<table border=\"1\" class=\"dataframe\">\n",
              "  <thead>\n",
              "    <tr style=\"text-align: right;\">\n",
              "      <th></th>\n",
              "      <th>chocolate</th>\n",
              "      <th>fruity</th>\n",
              "      <th>caramel</th>\n",
              "      <th>peanutyalmondy</th>\n",
              "      <th>nougat</th>\n",
              "      <th>crispedricewafer</th>\n",
              "      <th>hard</th>\n",
              "      <th>bar</th>\n",
              "      <th>pluribus</th>\n",
              "      <th>sugarpercent</th>\n",
              "      <th>pricepercent</th>\n",
              "      <th>winpercent</th>\n",
              "    </tr>\n",
              "  </thead>\n",
              "  <tbody>\n",
              "    <tr>\n",
              "      <td>count</td>\n",
              "      <td>85.000000</td>\n",
              "      <td>85.000000</td>\n",
              "      <td>85.000000</td>\n",
              "      <td>85.000000</td>\n",
              "      <td>85.000000</td>\n",
              "      <td>85.000000</td>\n",
              "      <td>85.000000</td>\n",
              "      <td>85.000000</td>\n",
              "      <td>85.000000</td>\n",
              "      <td>85.000000</td>\n",
              "      <td>85.000000</td>\n",
              "      <td>85.000000</td>\n",
              "    </tr>\n",
              "    <tr>\n",
              "      <td>mean</td>\n",
              "      <td>0.435294</td>\n",
              "      <td>0.447059</td>\n",
              "      <td>0.164706</td>\n",
              "      <td>0.164706</td>\n",
              "      <td>0.082353</td>\n",
              "      <td>0.082353</td>\n",
              "      <td>0.176471</td>\n",
              "      <td>0.247059</td>\n",
              "      <td>0.517647</td>\n",
              "      <td>0.478647</td>\n",
              "      <td>0.468882</td>\n",
              "      <td>50.316764</td>\n",
              "    </tr>\n",
              "    <tr>\n",
              "      <td>std</td>\n",
              "      <td>0.498738</td>\n",
              "      <td>0.500140</td>\n",
              "      <td>0.373116</td>\n",
              "      <td>0.373116</td>\n",
              "      <td>0.276533</td>\n",
              "      <td>0.276533</td>\n",
              "      <td>0.383482</td>\n",
              "      <td>0.433861</td>\n",
              "      <td>0.502654</td>\n",
              "      <td>0.282778</td>\n",
              "      <td>0.285740</td>\n",
              "      <td>14.714357</td>\n",
              "    </tr>\n",
              "    <tr>\n",
              "      <td>min</td>\n",
              "      <td>0.000000</td>\n",
              "      <td>0.000000</td>\n",
              "      <td>0.000000</td>\n",
              "      <td>0.000000</td>\n",
              "      <td>0.000000</td>\n",
              "      <td>0.000000</td>\n",
              "      <td>0.000000</td>\n",
              "      <td>0.000000</td>\n",
              "      <td>0.000000</td>\n",
              "      <td>0.011000</td>\n",
              "      <td>0.011000</td>\n",
              "      <td>22.445341</td>\n",
              "    </tr>\n",
              "    <tr>\n",
              "      <td>25%</td>\n",
              "      <td>0.000000</td>\n",
              "      <td>0.000000</td>\n",
              "      <td>0.000000</td>\n",
              "      <td>0.000000</td>\n",
              "      <td>0.000000</td>\n",
              "      <td>0.000000</td>\n",
              "      <td>0.000000</td>\n",
              "      <td>0.000000</td>\n",
              "      <td>0.000000</td>\n",
              "      <td>0.220000</td>\n",
              "      <td>0.255000</td>\n",
              "      <td>39.141056</td>\n",
              "    </tr>\n",
              "    <tr>\n",
              "      <td>50%</td>\n",
              "      <td>0.000000</td>\n",
              "      <td>0.000000</td>\n",
              "      <td>0.000000</td>\n",
              "      <td>0.000000</td>\n",
              "      <td>0.000000</td>\n",
              "      <td>0.000000</td>\n",
              "      <td>0.000000</td>\n",
              "      <td>0.000000</td>\n",
              "      <td>1.000000</td>\n",
              "      <td>0.465000</td>\n",
              "      <td>0.465000</td>\n",
              "      <td>47.829754</td>\n",
              "    </tr>\n",
              "    <tr>\n",
              "      <td>75%</td>\n",
              "      <td>1.000000</td>\n",
              "      <td>1.000000</td>\n",
              "      <td>0.000000</td>\n",
              "      <td>0.000000</td>\n",
              "      <td>0.000000</td>\n",
              "      <td>0.000000</td>\n",
              "      <td>0.000000</td>\n",
              "      <td>0.000000</td>\n",
              "      <td>1.000000</td>\n",
              "      <td>0.732000</td>\n",
              "      <td>0.651000</td>\n",
              "      <td>59.863998</td>\n",
              "    </tr>\n",
              "    <tr>\n",
              "      <td>max</td>\n",
              "      <td>1.000000</td>\n",
              "      <td>1.000000</td>\n",
              "      <td>1.000000</td>\n",
              "      <td>1.000000</td>\n",
              "      <td>1.000000</td>\n",
              "      <td>1.000000</td>\n",
              "      <td>1.000000</td>\n",
              "      <td>1.000000</td>\n",
              "      <td>1.000000</td>\n",
              "      <td>0.988000</td>\n",
              "      <td>0.976000</td>\n",
              "      <td>84.180290</td>\n",
              "    </tr>\n",
              "  </tbody>\n",
              "</table>\n",
              "</div>"
            ],
            "text/plain": [
              "       chocolate     fruity    caramel  peanutyalmondy     nougat  \\\n",
              "count  85.000000  85.000000  85.000000       85.000000  85.000000   \n",
              "mean    0.435294   0.447059   0.164706        0.164706   0.082353   \n",
              "std     0.498738   0.500140   0.373116        0.373116   0.276533   \n",
              "min     0.000000   0.000000   0.000000        0.000000   0.000000   \n",
              "25%     0.000000   0.000000   0.000000        0.000000   0.000000   \n",
              "50%     0.000000   0.000000   0.000000        0.000000   0.000000   \n",
              "75%     1.000000   1.000000   0.000000        0.000000   0.000000   \n",
              "max     1.000000   1.000000   1.000000        1.000000   1.000000   \n",
              "\n",
              "       crispedricewafer       hard        bar   pluribus  sugarpercent  \\\n",
              "count         85.000000  85.000000  85.000000  85.000000     85.000000   \n",
              "mean           0.082353   0.176471   0.247059   0.517647      0.478647   \n",
              "std            0.276533   0.383482   0.433861   0.502654      0.282778   \n",
              "min            0.000000   0.000000   0.000000   0.000000      0.011000   \n",
              "25%            0.000000   0.000000   0.000000   0.000000      0.220000   \n",
              "50%            0.000000   0.000000   0.000000   1.000000      0.465000   \n",
              "75%            0.000000   0.000000   0.000000   1.000000      0.732000   \n",
              "max            1.000000   1.000000   1.000000   1.000000      0.988000   \n",
              "\n",
              "       pricepercent  winpercent  \n",
              "count     85.000000   85.000000  \n",
              "mean       0.468882   50.316764  \n",
              "std        0.285740   14.714357  \n",
              "min        0.011000   22.445341  \n",
              "25%        0.255000   39.141056  \n",
              "50%        0.465000   47.829754  \n",
              "75%        0.651000   59.863998  \n",
              "max        0.976000   84.180290  "
            ]
          },
          "metadata": {
            "tags": []
          },
          "execution_count": 18
        }
      ]
    },
    {
      "cell_type": "markdown",
      "metadata": {
        "id": "4aj5O9aS6i6l"
      },
      "source": [
        "__Observations__\n",
        "\n",
        "- There are 85 observations and 12 features.\n",
        "- There is no null value in dataset.\n",
        "- Most of the features are having binary observations.\n",
        "- Win Percent data is Right skewed."
      ]
    },
    {
      "cell_type": "markdown",
      "metadata": {
        "id": "epr8dcU16i6l"
      },
      "source": [
        "#### Plotting of Observations:"
      ]
    },
    {
      "cell_type": "code",
      "metadata": {
        "id": "uY0SHxzb6i6m",
        "outputId": "97752672-9bd3-423a-8daa-6c6448768f94"
      },
      "source": [
        "corr = data.corr()\n",
        "plt.figure(figsize=(10,10))\n",
        "ax = sns.heatmap(corr,vmax=0.8,linewidth=.01, square = True, annot = True,cmap='YlGnBu',linecolor ='black')\n",
        "ax.set_ylim(12, 0)\n",
        "plt.title('Correlation between features')"
      ],
      "execution_count": null,
      "outputs": [
        {
          "output_type": "execute_result",
          "data": {
            "text/plain": [
              "Text(0.5, 1, 'Correlation between features')"
            ]
          },
          "metadata": {
            "tags": []
          },
          "execution_count": 45
        },
        {
          "output_type": "display_data",
          "data": {
            "image/png": "[encoded data removed]",
            "text/plain": [
              "<Figure size 720x720 with 2 Axes>"
            ]
          },
          "metadata": {
            "tags": [],
            "needs_background": "light"
          }
        }
      ]
    },
    {
      "cell_type": "markdown",
      "metadata": {
        "id": "nSviCa-n6i6p"
      },
      "source": [
        "__Observations__\n",
        "\n",
        "- None of the features are highly correlated to each other.\n",
        "- Chocolate is maximum positively correlated to winpercentage.\n",
        "- Fruity is maximum negatively correlated to winpercentage."
      ]
    },
    {
      "cell_type": "markdown",
      "metadata": {
        "id": "U_MWlGvs6i6p"
      },
      "source": [
        "<a id=section4></a>\n",
        "### 4. Modelling using Linear Regression Algorithm"
      ]
    },
    {
      "cell_type": "markdown",
      "metadata": {
        "id": "cZf-yjN56i6p"
      },
      "source": [
        "<a id=section401></a>\n",
        "### 4.1 Preparing X and y dataset"
      ]
    },
    {
      "cell_type": "code",
      "metadata": {
        "id": "Vbwchew26i6q"
      },
      "source": [
        "feature_cols = data.columns.drop('winpercent')                # create a Python list of feature names\n",
        "X = data[feature_cols] \n",
        "y = data.winpercent"
      ],
      "execution_count": null,
      "outputs": []
    },
    {
      "cell_type": "markdown",
      "metadata": {
        "id": "0_LaALeN6i6s"
      },
      "source": [
        "<a id=section40101></a>\n",
        "### 4.1.1 Splitting X and y into training and test datasets"
      ]
    },
    {
      "cell_type": "code",
      "metadata": {
        "id": "0pQTQbAT6i6t"
      },
      "source": [
        "from sklearn.model_selection import train_test_split\n",
        "X_train, X_test, y_train, y_test = train_test_split(X, y, test_size=.2)"
      ],
      "execution_count": null,
      "outputs": []
    },
    {
      "cell_type": "markdown",
      "metadata": {
        "id": "6Om_vYQa6i6v"
      },
      "source": [
        "<a id=section40102></a>\n",
        "### 4.1.2 Scaling of training and test datasets"
      ]
    },
    {
      "cell_type": "code",
      "metadata": {
        "id": "BXy5NCTY6i6v"
      },
      "source": [
        "from sklearn.preprocessing import MinMaxScaler #import the class\n",
        "\n",
        "scaler = MinMaxScaler()\n",
        "scaler.fit(X_train)\n",
        "X_train = scaler.transform(X_train)\n",
        "X_test = scaler.transform(X_test)\n",
        "\n",
        "X_train = pd.DataFrame(data = X_train, columns = feature_cols)\n",
        "X_test = pd.DataFrame(data = X_test, columns = feature_cols)"
      ],
      "execution_count": null,
      "outputs": []
    },
    {
      "cell_type": "markdown",
      "metadata": {
        "id": "PEhYrL2j6i6z"
      },
      "source": [
        "<a id=section402></a>\n",
        "### 4.2 Model formation and Prediction using Linear Regression Algorithm"
      ]
    },
    {
      "cell_type": "code",
      "metadata": {
        "id": "ZLtoMCgP6i6z"
      },
      "source": [
        "from sklearn.linear_model import LinearRegression\n",
        "from sklearn import metrics\n",
        "\n",
        "linreg = LinearRegression()\n",
        "linreg.fit(X_train, y_train) #calculation of b0 and b1\n",
        "\n",
        "y_pred_test_LR = linreg.predict(X_test) \n",
        "y_pred_train_LR = linreg.predict(X_train)"
      ],
      "execution_count": null,
      "outputs": []
    },
    {
      "cell_type": "markdown",
      "metadata": {
        "id": "xLqaXAv56i62"
      },
      "source": [
        "<a id=section40202></a>\n",
        "### 4.2.2 Interpreting Model Coefficients after application of Linear Regression Algorithm"
      ]
    },
    {
      "cell_type": "code",
      "metadata": {
        "id": "90tQ2cmH6i62"
      },
      "source": [
        "feature_cols.insert(0,'Intercept')\n",
        "coef = linreg.coef_.tolist()\n",
        "coef.insert(0, linreg.intercept_) #list creation"
      ],
      "execution_count": null,
      "outputs": []
    },
    {
      "cell_type": "code",
      "metadata": {
        "id": "SlA9bxX06i66",
        "outputId": "2842f82b-a025-412b-cdf3-7e7eb9ac6e7c"
      },
      "source": [
        "eq1 = zip(feature_cols, coef)\n",
        "print (\"Coefficients of each features derived from Linear Regression Algorithm\")\n",
        "print (\"----------------------------------------------------------------------\")\n",
        "for c1,c2 in eq1:\n",
        "    print(c1,c2)"
      ],
      "execution_count": null,
      "outputs": [
        {
          "output_type": "stream",
          "text": [
            "Coefficients of each features derived from Linear Regression Algorithm\n",
            "----------------------------------------------------------------------\n",
            "chocolate 35.182031935297545\n",
            "fruity 17.04879173814442\n",
            "caramel 7.05980136366004\n",
            "peanutyalmondy 2.65092900615174\n",
            "nougat 14.531483029659368\n",
            "crispedricewafer -2.372995847920603\n",
            "hard 11.140649718446145\n",
            "bar -6.801578080331075\n",
            "pluribus 3.174547576792408\n",
            "sugarpercent -0.3917696044911311\n",
            "pricepercent 10.357975515293562\n"
          ],
          "name": "stdout"
        }
      ]
    },
    {
      "cell_type": "markdown",
      "metadata": {
        "id": "Q1dtq9SG6i69"
      },
      "source": [
        "<a id=section403></a>\n",
        "### 4.3 Model formation and Prediction using Decision Tree Regressor Algorithm"
      ]
    },
    {
      "cell_type": "code",
      "metadata": {
        "id": "lVKKR6W36i69"
      },
      "source": [
        "from sklearn.tree import DecisionTreeRegressor\n",
        "from sklearn import metrics\n",
        "\n",
        "DTreg = DecisionTreeRegressor()\n",
        "DTreg.fit(X_train, y_train)\n",
        "\n",
        "y_pred_test_DT = DTreg.predict(X_test) \n",
        "y_pred_train_DT = DTreg.predict(X_train)"
      ],
      "execution_count": null,
      "outputs": []
    },
    {
      "cell_type": "markdown",
      "metadata": {
        "id": "4bkWK3gb6i6_"
      },
      "source": [
        "<a id=section404></a>\n",
        "### 4.4 Model formation and Prediction using Random Forest Regressor Algorithm"
      ]
    },
    {
      "cell_type": "code",
      "metadata": {
        "id": "oFptK-mc6i7A",
        "outputId": "4f791637-74cd-400d-92f3-3153d15e2b70"
      },
      "source": [
        "from sklearn.ensemble import RandomForestRegressor \n",
        "from sklearn import metrics\n",
        "\n",
        "RFreg = RandomForestRegressor()\n",
        "RFreg.fit(X_train, y_train)\n",
        "\n",
        "y_pred_test_RF = RFreg.predict(X_test) \n",
        "y_pred_train_RF = RFreg.predict(X_train)"
      ],
      "execution_count": null,
      "outputs": [
        {
          "output_type": "stream",
          "text": [
            "C:\\ProgramData\\Anaconda3\\lib\\site-packages\\sklearn\\ensemble\\forest.py:245: FutureWarning: The default value of n_estimators will change from 10 in version 0.20 to 100 in 0.22.\n",
            "  \"10 in version 0.20 to 100 in 0.22.\", FutureWarning)\n"
          ],
          "name": "stderr"
        }
      ]
    },
    {
      "cell_type": "markdown",
      "metadata": {
        "id": "gZomZDVv6i7D"
      },
      "source": [
        "<a id=section5></a>\n",
        "### 5. Model Evaluation"
      ]
    },
    {
      "cell_type": "markdown",
      "metadata": {
        "id": "mlpFGbnv6i7E"
      },
      "source": [
        "<a id=section501></a>\n",
        "### 5.1 Model evaluation using metrics"
      ]
    },
    {
      "cell_type": "code",
      "metadata": {
        "id": "urYOZK2e6i7E",
        "outputId": "d9898404-f2e8-4403-d89b-95096f0b8b94"
      },
      "source": [
        "# Calculation of RMSE\n",
        "RMSE_test_LR = np.sqrt(metrics.mean_squared_error(y_test, y_pred_test_LR))  \n",
        "RMSE_train_LR = np.sqrt(metrics.mean_squared_error(y_train, y_pred_train_LR)) \n",
        "\n",
        "RMSE_test_DT = np.sqrt(metrics.mean_squared_error(y_test, y_pred_test_DT))  \n",
        "RMSE_train_DT = np.sqrt(metrics.mean_squared_error(y_train, y_pred_train_DT)) \n",
        "\n",
        "RMSE_test_RF = np.sqrt(metrics.mean_squared_error(y_test, y_pred_test_RF))  \n",
        "RMSE_train_RF = np.sqrt(metrics.mean_squared_error(y_train, y_pred_train_RF)) \n",
        "\n",
        "print (\"Root Mean Square Error of test dataset for Linear Regression Algorithm is \", RMSE_test_LR)\n",
        "print (\"Root Mean Square Error of train dataset for Linear Regression Algorithm is \", RMSE_train_LR)\n",
        "print (\"---------------------------------------------------------------------------------------------------\")\n",
        "print (\"Root Mean Square Error of test dataset for Decision Tree Regressor Algorithm is \", RMSE_test_DT)\n",
        "print (\"Root Mean Square Error of train dataset for Decision Tree Regressor Algorithm is \", RMSE_train_DT)\n",
        "print (\"---------------------------------------------------------------------------------------------------\")\n",
        "print (\"Root Mean Square Error of test dataset for Random Forest Regressor Algorithm is \", RMSE_test_RF)\n",
        "print (\"Root Mean Square Error of train dataset for Random Forest Regressor Algorithm is \", RMSE_train_RF)"
      ],
      "execution_count": null,
      "outputs": [
        {
          "output_type": "stream",
          "text": [
            "Root Mean Square Error of test dataset for Linear Regression Algorithm is  13.533966259353257\n",
            "Root Mean Square Error of train dataset for Linear Regression Algorithm is  9.176235464056967\n",
            "---------------------------------------------------------------------------------------------------\n",
            "Root Mean Square Error of test dataset for Decision Tree Regressor Algorithm is  13.822148981672571\n",
            "Root Mean Square Error of train dataset for Decision Tree Regressor Algorithm is  2.932787310288853\n",
            "---------------------------------------------------------------------------------------------------\n",
            "Root Mean Square Error of test dataset for Random Forest Regressor Algorithm is  13.359548772647335\n",
            "Root Mean Square Error of train dataset for Random Forest Regressor Algorithm is  5.775307711868402\n"
          ],
          "name": "stdout"
        }
      ]
    },
    {
      "cell_type": "markdown",
      "metadata": {
        "id": "TKvUc5FO6i7H"
      },
      "source": [
        "<a id=section502></a>\n",
        "### 5.2 Model Evaluation using R-Squared and Adjusted R-Squared Value"
      ]
    },
    {
      "cell_type": "code",
      "metadata": {
        "id": "jb4vHhHp6i7H",
        "outputId": "f536e591-5da8-470e-d389-434f9ccb7993"
      },
      "source": [
        "# Calculation of R-Squared value\n",
        "from sklearn.metrics import r2_score\n",
        "\n",
        "R2_train_LR= r2_score(y_train, y_pred_train_LR)\n",
        "R2_test_LR= r2_score(y_test, y_pred_test_LR)\n",
        "\n",
        "R2_train_DT= r2_score(y_train, y_pred_train_DT)\n",
        "R2_test_DT= r2_score(y_test, y_pred_test_DT)\n",
        "\n",
        "R2_train_RF= r2_score(y_train, y_pred_train_RF)\n",
        "R2_test_RF= r2_score(y_test, y_pred_test_RF)\n",
        "\n",
        "print (\"R-Squared value of test dataset for Linear Regression Algorithm is \", R2_test_LR)\n",
        "print (\"R-Squared value of train dataset for Linear Regression Algorithm is \", R2_train_LR)\n",
        "print (\"------------------------------------------------------------------------------------------------\")\n",
        "print (\"R-Squared value of test dataset for Decision Tree Regressor Algorithm is \", R2_test_DT)\n",
        "print (\"R-Squared value of train dataset for Decision Tree Regressor Algorithm is \", R2_train_DT)\n",
        "print (\"------------------------------------------------------------------------------------------------\")\n",
        "print (\"R-Squared value of test dataset for Random Forest Regressor Algorithm is \", R2_test_RF)\n",
        "print (\"R-Squared value of train dataset for Random Forest Regressor Algorithm is \", R2_train_RF)"
      ],
      "execution_count": null,
      "outputs": [
        {
          "output_type": "stream",
          "text": [
            "R-Squared value of test dataset for Linear Regression Algorithm is  0.011285514242579842\n",
            "R-Squared value of train dataset for Linear Regression Algorithm is  0.618890774794806\n",
            "------------------------------------------------------------------------------------------------\n",
            "R-Squared value of test dataset for Decision Tree Regressor Algorithm is  -0.031268749646006455\n",
            "R-Squared value of train dataset for Decision Tree Regressor Algorithm is  0.9610702602629279\n",
            "------------------------------------------------------------------------------------------------\n",
            "R-Squared value of test dataset for Random Forest Regressor Algorithm is  0.036605200003639204\n",
            "R-Squared value of train dataset for Random Forest Regressor Algorithm is  0.8490369642468025\n"
          ],
          "name": "stdout"
        }
      ]
    },
    {
      "cell_type": "code",
      "metadata": {
        "id": "Q74QhK_N6i7K",
        "outputId": "31f6b87e-78e8-4c22-8f36-f0baa5dc4c1f"
      },
      "source": [
        "# Calculation of Adjusted R-Squared value\n",
        "adjusted_r_squared_train_LR = 1 - (1-R2_train_LR)*(len(y_train)-1)/(len(y_train)-X_train.shape[1]-1) # AdjR2 = 1 - (1-R2)(N-1)/(N-p-1)\n",
        "adjusted_r_squared_test_LR = 1 - (1-R2_test_LR)*(len(y_test)-1)/(len(y_test)-X_test.shape[1]-1) # AdjR2 = 1 - (1-R2)(N-1)/(N-p-1)\n",
        "\n",
        "adjusted_r_squared_train_DT = 1 - (1-R2_train_DT)*(len(y_train)-1)/(len(y_train)-X_train.shape[1]-1) # AdjR2 = 1 - (1-R2)(N-1)/(N-p-1)\n",
        "adjusted_r_squared_test_DT = 1 - (1-R2_test_DT)*(len(y_test)-1)/(len(y_test)-X_test.shape[1]-1) # AdjR2 = 1 - (1-R2)(N-1)/(N-p-1)\n",
        "\n",
        "adjusted_r_squared_train_RF = 1 - (1-R2_train_RF)*(len(y_train)-1)/(len(y_train)-X_train.shape[1]-1) # AdjR2 = 1 - (1-R2)(N-1)/(N-p-1)\n",
        "adjusted_r_squared_test_RF = 1 - (1-R2_test_RF)*(len(y_test)-1)/(len(y_test)-X_test.shape[1]-1) # AdjR2 = 1 - (1-R2)(N-1)/(N-p-1)\n",
        "\n",
        "print (\"Adjusted R-Squared value of test dataset for Linear Regression Algorithm is \", adjusted_r_squared_test_LR)\n",
        "print (\"Adjusted R-Squared value of train dataset for Linear Regression Algorithm is \", adjusted_r_squared_train_LR)\n",
        "print (\"------------------------------------------------------------------------------------------------\")\n",
        "\n",
        "print (\"Adjusted R-Squared value of test dataset for Decision Tree Regressor Algorithm is \", adjusted_r_squared_test_DT)\n",
        "print (\"Adjusted R-Squared value of train dataset for Decision Tree Regressor Algorithm is \", adjusted_r_squared_train_DT)\n",
        "print (\"------------------------------------------------------------------------------------------------\")\n",
        "print (\"Adjusted R-Squared value of test dataset for Random Forest Regressor Algorithm is \", adjusted_r_squared_test_RF)\n",
        "print (\"Adjusted R-Squared value of train dataset for Random Forest Regressor Algorithm is \", adjusted_r_squared_train_RF)"
      ],
      "execution_count": null,
      "outputs": [
        {
          "output_type": "stream",
          "text": [
            "Adjusted R-Squared value of test dataset for Linear Regression Algorithm is  -2.1638863544237443\n",
            "Adjusted R-Squared value of train dataset for Linear Regression Algorithm is  0.5440300341295001\n",
            "------------------------------------------------------------------------------------------------\n",
            "Adjusted R-Squared value of test dataset for Decision Tree Regressor Algorithm is  -2.3000599988672206\n",
            "Adjusted R-Squared value of train dataset for Decision Tree Regressor Algorithm is  0.9534233471002886\n",
            "------------------------------------------------------------------------------------------------\n",
            "Adjusted R-Squared value of test dataset for Random Forest Regressor Algorithm is  -2.0828633599883544\n",
            "Adjusted R-Squared value of train dataset for Random Forest Regressor Algorithm is  0.8193835107952816\n"
          ],
          "name": "stdout"
        }
      ]
    }
  ]
}